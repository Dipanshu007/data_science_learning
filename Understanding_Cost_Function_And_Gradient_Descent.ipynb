{
 "cells": [
  {
   "cell_type": "code",
   "execution_count": 1,
   "metadata": {
    "collapsed": true
   },
   "outputs": [],
   "source": [
    "import numpy as np\n",
    "import pandas as pd\n",
    "\n",
    "import matplotlib.pyplot as plt\n",
    "import seaborn as sns\n",
    "\n",
    "%matplotlib inline"
   ]
  },
  {
   "cell_type": "code",
   "execution_count": 40,
   "metadata": {},
   "outputs": [],
   "source": [
    "trainingSet = np.loadtxt(\"../trainingset/Understanding_Cost_Function_And_Gradient_Descent.txt\", delimiter=\",\")\n",
    "\n"
   ]
  },
  {
   "cell_type": "code",
   "execution_count": 48,
   "metadata": {},
   "outputs": [
    {
     "data": {
      "text/plain": [
       "\"\\nline eq, \\ny = mX + c\\nor\\ny = B1X + B0\\n\\nB0, B1 are coefficients \\nB = [B0, B1, ....Bn]\\nX = [1,r1\\n     1,r2\\n     1,r3\\n     .,r4]\\n     \\nB = [\\n    B0,\\n    B1\\n    ]\\n    \\nfor each point y'(y-hat or preddicted value) = x(i)B1 + B0\\n\\n\""
      ]
     },
     "execution_count": 48,
     "metadata": {},
     "output_type": "execute_result"
    }
   ],
   "source": [
    "### y = mX + c or\n",
    "### \n",
    "### y\n",
    "###\n",
    "###\n",
    "\n",
    "'''\n",
    "line eq, \n",
    "y = mX + c\n",
    "or\n",
    "y = B1X + B0\n",
    "\n",
    "B0, B1 are coefficients \n",
    "B = [B0, B1, ....Bn]\n",
    "X = [1,r1\n",
    "     1,r2\n",
    "     1,r3\n",
    "     .,r4]\n",
    "     \n",
    "B = [\n",
    "    B0,\n",
    "    B1\n",
    "    ]\n",
    "    \n",
    "for each point y'(y-hat or preddicted value) = x(i)B1 + B0\n",
    "\n",
    "'''\n"
   ]
  },
  {
   "cell_type": "code",
   "execution_count": 51,
   "metadata": {},
   "outputs": [
    {
     "ename": "TypeError",
     "evalue": "'tuple' object is not callable",
     "output_type": "error",
     "traceback": [
      "\u001b[1;31m---------------------------------------------------------------------------\u001b[0m",
      "\u001b[1;31mTypeError\u001b[0m                                 Traceback (most recent call last)",
      "\u001b[1;32m<ipython-input-51-2a361d07859f>\u001b[0m in \u001b[0;36m<module>\u001b[1;34m()\u001b[0m\n\u001b[0;32m      1\u001b[0m \u001b[1;31m## Create X array as described above\u001b[0m\u001b[1;33m\u001b[0m\u001b[1;33m\u001b[0m\u001b[0m\n\u001b[1;32m----> 2\u001b[1;33m \u001b[0mtrainingSet\u001b[0m\u001b[1;33m.\u001b[0m\u001b[0mshape\u001b[0m\u001b[1;33m(\u001b[0m\u001b[1;36m0\u001b[0m\u001b[1;33m)\u001b[0m\u001b[1;33m\u001b[0m\u001b[0m\n\u001b[0m\u001b[0;32m      3\u001b[0m \u001b[1;31m#np.ones()\u001b[0m\u001b[1;33m\u001b[0m\u001b[1;33m\u001b[0m\u001b[0m\n\u001b[0;32m      4\u001b[0m \u001b[1;33m\u001b[0m\u001b[0m\n\u001b[0;32m      5\u001b[0m \u001b[1;31m#X = np.c_[np.ones(trainingSet.shape(0)), trainingSet[:, 0]])\u001b[0m\u001b[1;33m\u001b[0m\u001b[1;33m\u001b[0m\u001b[0m\n",
      "\u001b[1;31mTypeError\u001b[0m: 'tuple' object is not callable"
     ]
    }
   ],
   "source": [
    "## Create X array as described above\n",
    "trainingSet.shape(0)\n",
    "#np.ones()\n",
    "\n",
    "#X = np.c_[np.ones(trainingSet.shape(0)), trainingSet[:, 0]])\n",
    "#X"
   ]
  },
  {
   "cell_type": "code",
   "execution_count": 37,
   "metadata": {},
   "outputs": [
    {
     "data": {
      "text/plain": [
       "array([ 17.592])"
      ]
     },
     "execution_count": 37,
     "metadata": {},
     "output_type": "execute_result"
    }
   ],
   "source": [
    "####X = np.c_[np.ones(trainingSet.shape[0]),trainingSet[:,0]]\n",
    "\n",
    "###trainingSet[:, 0]\n",
    "\n",
    "y = np.c_[trainingSet[:,1]]\n",
    "y[0]"
   ]
  },
  {
   "cell_type": "code",
   "execution_count": null,
   "metadata": {},
   "outputs": [],
   "source": []
  },
  {
   "cell_type": "code",
   "execution_count": null,
   "metadata": {
    "collapsed": true
   },
   "outputs": [],
   "source": []
  }
 ],
 "metadata": {
  "kernelspec": {
   "display_name": "Python 3",
   "language": "python",
   "name": "python3"
  },
  "language_info": {
   "codemirror_mode": {
    "name": "ipython",
    "version": 3
   },
   "file_extension": ".py",
   "mimetype": "text/x-python",
   "name": "python",
   "nbconvert_exporter": "python",
   "pygments_lexer": "ipython3",
   "version": "3.6.3"
  }
 },
 "nbformat": 4,
 "nbformat_minor": 2
}
