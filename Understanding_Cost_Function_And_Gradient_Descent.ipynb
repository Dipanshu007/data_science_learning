{
 "cells": [
  {
   "cell_type": "code",
   "execution_count": 1,
   "metadata": {
    "collapsed": true
   },
   "outputs": [],
   "source": [
    "import numpy as np\n",
    "import pandas as pd\n",
    "\n",
    "import matplotlib.pyplot as plt\n",
    "import seaborn as sns\n",
    "\n",
    "%matplotlib inline"
   ]
  },
  {
   "cell_type": "code",
   "execution_count": 40,
   "metadata": {},
   "outputs": [],
   "source": [
    "trainingSet = np.loadtxt(\"../trainingset/Understanding_Cost_Function_And_Gradient_Descent.txt\", delimiter=\",\")\n",
    "\n"
   ]
  },
  {
   "cell_type": "code",
   "execution_count": 84,
   "metadata": {},
   "outputs": [
    {
     "data": {
      "text/plain": [
       "\"\\nline eq, \\ny = mX + c\\nor\\ny = B1X + B0\\n\\nB0, B1 are coefficients \\nB = [B0, B1, ....Bn]\\nX = [1,r1\\n     1,r2\\n     1,r3\\n     .,r4]\\n     \\nB = [\\n    B0,\\n    B1\\n    ]\\n    \\nfor each point y'(y-hat or preddicted value) = x(i)B1 + B0\\n\\n\""
      ]
     },
     "execution_count": 84,
     "metadata": {},
     "output_type": "execute_result"
    }
   ],
   "source": [
    "### y = mX + c or\n",
    "### \n",
    "### y\n",
    "###\n",
    "###\n",
    "\n",
    "'''\n",
    "line eq, \n",
    "y = mX + c\n",
    "or\n",
    "y = B1X + B0\n",
    "\n",
    "B0, B1 are coefficients \n",
    "B = [B0, B1, ....Bn]\n",
    "X = [1,r1\n",
    "     1,r2\n",
    "     1,r3\n",
    "     .,r4]\n",
    "     \n",
    "B = [\n",
    "    B0,\n",
    "    B1\n",
    "    ]\n",
    "    \n",
    "for each point y'(y-hat or preddicted value) = x(i)B1 + B0\n",
    "\n",
    "'''\n"
   ]
  },
  {
   "cell_type": "code",
   "execution_count": 85,
   "metadata": {},
   "outputs": [
    {
     "data": {
      "text/plain": [
       "array([[ 1.    ,  6.1101],\n",
       "       [ 1.    ,  5.5277],\n",
       "       [ 1.    ,  8.5186],\n",
       "       [ 1.    ,  7.0032],\n",
       "       [ 1.    ,  5.8598]])"
      ]
     },
     "execution_count": 85,
     "metadata": {},
     "output_type": "execute_result"
    }
   ],
   "source": [
    "## Create X array as described above\n",
    "'''\n",
    "X = [1, r1\n",
    "     1, r2\n",
    "     1, r3\n",
    "     1, ..\n",
    "     1, rn]\n",
    "'''\n",
    "##trainingSet[:, 0] -   will column-0 of all rows\n",
    "##np.ones(trainingSet.shape[0]) - create column of ones\n",
    "\n",
    "# np.c_ = concatenate above stow columns\n",
    "\n",
    "X = np.c_[np.ones(trainingSet.shape[0]), trainingSet[:, 0]]\n",
    "\n",
    "# display 5 rows\n",
    "X[0:5]"
   ]
  },
  {
   "cell_type": "code",
   "execution_count": 86,
   "metadata": {},
   "outputs": [
    {
     "data": {
      "text/plain": [
       "array([[ 17.592 ],\n",
       "       [  9.1302],\n",
       "       [ 13.662 ],\n",
       "       [ 11.854 ],\n",
       "       [  6.8233]])"
      ]
     },
     "execution_count": 86,
     "metadata": {},
     "output_type": "execute_result"
    }
   ],
   "source": [
    "## Create y array as described above\n",
    "\n",
    "# trainingSet[:,1] - get column-1 of all rows\n",
    "# create column \n",
    "y = np.c_[trainingSet[:,1]]\n",
    "y[0:5]"
   ]
  },
  {
   "cell_type": "code",
   "execution_count": 106,
   "metadata": {},
   "outputs": [
    {
     "data": {
      "text/plain": [
       "array([[ -566.3961    ],\n",
       "       [-6336.89842532]])"
      ]
     },
     "execution_count": 106,
     "metadata": {},
     "output_type": "execute_result"
    }
   ],
   "source": [
    "'''\n",
    "B = [\n",
    "    B0,\n",
    "    B1\n",
    "    ]\n",
    "    \n",
    "'''\n",
    "\n",
    "theta = np.zeros((2,1))\n",
    "theta\n",
    "\n",
    "h = X.dot(theta)\n",
    "X.T.dot(h-y )"
   ]
  },
  {
   "cell_type": "code",
   "execution_count": 98,
   "metadata": {
    "collapsed": true
   },
   "outputs": [],
   "source": [
    "## cost function\n",
    "##1/2m * sum(h-y)^2\n",
    "\n",
    "def cost_function(X,y,theta=[[0],[0]]):\n",
    "    m = y.size\n",
    "    h = X.dot(theta)\n",
    "    J = 1/(2*m)*np.sum(np.square(h-y))\n",
    "    return (J)\n",
    "    "
   ]
  },
  {
   "cell_type": "code",
   "execution_count": 104,
   "metadata": {},
   "outputs": [
    {
     "data": {
      "text/plain": [
       "(2, 97)"
      ]
     },
     "execution_count": 104,
     "metadata": {},
     "output_type": "execute_result"
    }
   ],
   "source": [
    "## gradient function\n",
    "'''\n",
    "theta=theta - alpha* costfunction\n",
    "\n",
    "'''\n",
    "X.T.shape"
   ]
  },
  {
   "cell_type": "code",
   "execution_count": null,
   "metadata": {
    "collapsed": true
   },
   "outputs": [],
   "source": []
  }
 ],
 "metadata": {
  "kernelspec": {
   "display_name": "Python 3",
   "language": "python",
   "name": "python3"
  },
  "language_info": {
   "codemirror_mode": {
    "name": "ipython",
    "version": 3
   },
   "file_extension": ".py",
   "mimetype": "text/x-python",
   "name": "python",
   "nbconvert_exporter": "python",
   "pygments_lexer": "ipython3",
   "version": "3.6.3"
  }
 },
 "nbformat": 4,
 "nbformat_minor": 2
}

